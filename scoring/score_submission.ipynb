{
 "cells": [
  {
   "cell_type": "code",
   "execution_count": 1,
   "id": "1ce7f8e1-28d0-4958-a1f9-611c1879492d",
   "metadata": {},
   "outputs": [
    {
     "name": "stderr",
     "output_type": "stream",
     "text": [
      "C:\\Users\\kimbo\\AppData\\Local\\Temp\\ipykernel_20444\\447778141.py:2: DeprecationWarning: \n",
      "Pyarrow will become a required dependency of pandas in the next major release of pandas (pandas 3.0),\n",
      "(to allow more performant data types, such as the Arrow string type, and better interoperability with other libraries)\n",
      "but was not found to be installed on your system.\n",
      "If this would cause problems for you,\n",
      "please provide us feedback at https://github.com/pandas-dev/pandas/issues/54466\n",
      "        \n",
      "  import pandas as pd\n"
     ]
    },
    {
     "name": "stdout",
     "output_type": "stream",
     "text": [
      "200112\n",
      "41993\n"
     ]
    }
   ],
   "source": [
    "import numpy as np, os, sys\n",
    "import pandas as pd\n",
    "from tqdm import tqdm\n",
    "\n",
    "## Load all the data so we explore it. \n",
    "pfile = '../Data/training_2024-11-04.pickle'\n",
    "pfile_test = '../Data/testing_2024-11-04.pickle'\n",
    "pfile_scoring = '../Data/evaluation_2024-11-04.pickle'\n",
    "if os.path.isfile(pfile):\n",
    "    SEPSISdat = pd.DataFrame.from_dict(pd.read_pickle(pfile))\n",
    "    print(len(SEPSISdat.patient)) # should be n=200112\n",
    "\n",
    "if os.path.isfile(pfile_test):\n",
    "    SEPSISdat_test = pd.DataFrame.from_dict(pd.read_pickle(pfile_test))\n",
    "    print(len(SEPSISdat_test.patient)) # should be n=41993\n",
    "\n",
    "if os.path.isfile(pfile_scoring):\n",
    "    SEPSISdat_scoring = pd.DataFrame.from_dict(pd.read_pickle(pfile_scoring))\n",
    "    print(len(SEPSISdat_scoring.patient)) # should be n=391288, but you don't have this hidden file"
   ]
  },
  {
   "cell_type": "code",
   "execution_count": 2,
   "id": "344265d7-7d2e-4e5c-819f-abbc949a11bb",
   "metadata": {},
   "outputs": [
    {
     "name": "stdout",
     "output_type": "stream",
     "text": [
      "Loading sepsis model...\n",
      "Predicting sepsis labels...\n"
     ]
    },
    {
     "name": "stderr",
     "output_type": "stream",
     "text": [
      "100%|██████████| 5000/5000 [02:21<00:00, 35.33it/s]\n",
      "100%|██████████| 5000/5000 [03:26<00:00, 24.20it/s]\n"
     ]
    },
    {
     "name": "stdout",
     "output_type": "stream",
     "text": [
      "0.3498 142\n"
     ]
    },
    {
     "name": "stderr",
     "output_type": "stream",
     "text": [
      "100%|██████████| 1000/1000 [00:10<00:00, 93.56it/s]\n",
      "100%|██████████| 1000/1000 [00:08<00:00, 116.98it/s]"
     ]
    },
    {
     "name": "stdout",
     "output_type": "stream",
     "text": [
      "0.3153 11\n"
     ]
    },
    {
     "name": "stderr",
     "output_type": "stream",
     "text": [
      "\n"
     ]
    }
   ],
   "source": [
    "import evaluate_sepsis_score as ev\n",
    "import time\n",
    "from get_sepsis_score_lr import load_sepsis_model, get_sepsis_score\n",
    "# from get_sepsis_score_gbm import load_sepsis_model, get_sepsis_score\n",
    "# Load model.\n",
    "print('Loading sepsis model...')\n",
    "model = load_sepsis_model()\n",
    "\n",
    "# Iterate over files.\n",
    "print('Predicting sepsis labels...')\n",
    "\n",
    "def score_cohort(cohort):\n",
    "    pats = np.unique(cohort.patient)\n",
    "    num_patients = len(pats)\n",
    "    scores = np.zeros(len(cohort))\n",
    "    labels = np.full(len(cohort),False)\n",
    "    ct = 0\n",
    "\n",
    "    starttime = time.time()\n",
    "    for k in tqdm(range(num_patients)):\n",
    "      p = pats[k]\n",
    "      data = cohort[cohort.patient==p] \n",
    "      data = data.drop(columns='patient')\n",
    "      # Ignore SepsisLabel column if present.\n",
    "      column_names = cohort.columns\n",
    "      if column_names[-1] == 'SepsisLabel':\n",
    "        column_names = column_names[:-1]\n",
    "        data = data.drop(columns='SepsisLabel')\n",
    "      # Make predictions.\n",
    "      num_rows = len(data)\n",
    "      data = data.to_numpy() \n",
    "      for t in range(num_rows):\n",
    "        current_data = data[:t+1]\n",
    "        current_score, current_label = get_sepsis_score(current_data, model)\n",
    "        scores[ct] = current_score[0]\n",
    "        labels[ct] = current_label\n",
    "        ct+=1\n",
    "    elapsed = round(time.time() - starttime)\n",
    "    util = ev.evaluate_utility(cohort.patient,cohort.SepsisLabel,labels)\n",
    "    \n",
    "    return scores, labels, util, elapsed\n",
    "\n",
    "score_train, labels_train, utility, elapsed = score_cohort(SEPSISdat)\n",
    "print(utility,elapsed)\n",
    "score_test, labels_test, utility, elapsed = score_cohort(SEPSISdat_test)\n",
    "print(utility,elapsed)\n",
    "if os.path.isfile(pfile_scoring):\n",
    "    score_eval, labels_eval, utility, elapsed = score_cohort(SEPSISdat_scoring)\n",
    "    print(utility,elapsed)"
   ]
  },
  {
   "cell_type": "code",
   "execution_count": 3,
   "id": "0767e90e-72ca-4c35-9733-ba493c443c48",
   "metadata": {},
   "outputs": [
    {
     "data": {
      "text/plain": [
       "array([4, 5, 6])"
      ]
     },
     "execution_count": 3,
     "metadata": {},
     "output_type": "execute_result"
    }
   ],
   "source": [
    "a = np.array([[1,2,3],[4,5,6]])\n",
    "a[-1]"
   ]
  },
  {
   "cell_type": "code",
   "execution_count": null,
   "id": "8a27177f",
   "metadata": {},
   "outputs": [],
   "source": []
  }
 ],
 "metadata": {
  "kernelspec": {
   "display_name": "Python 3",
   "language": "python",
   "name": "python3"
  },
  "language_info": {
   "codemirror_mode": {
    "name": "ipython",
    "version": 3
   },
   "file_extension": ".py",
   "mimetype": "text/x-python",
   "name": "python",
   "nbconvert_exporter": "python",
   "pygments_lexer": "ipython3",
   "version": "3.11.5"
  }
 },
 "nbformat": 4,
 "nbformat_minor": 5
}
